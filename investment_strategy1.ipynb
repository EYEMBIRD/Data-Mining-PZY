{
 "cells": [
  {
   "cell_type": "code",
   "execution_count": 1,
   "id": "c8043e36",
   "metadata": {},
   "outputs": [
    {
     "name": "stdout",
     "output_type": "stream",
     "text": [
      "(469, 10)\n",
      "[[-0.011905   -0.034362   -0.02713    ... -0.072727   -0.050591\n",
      "  -0.04343105]\n",
      " [ 0.025465    0.037572   -0.004357   ...  0.028322   -0.004695\n",
      "   0.00908059]\n",
      " [ 0.006142   -0.015146    0.001094   ... -0.012712   -0.016274\n",
      "  -0.01687289]\n",
      " ...\n",
      " [-0.014456   -0.02113     0.005275   ... -0.015431   -0.013848\n",
      "   0.02023988]\n",
      " [ 0.0033     -0.004287   -0.002778   ...  0.007194    0.003404\n",
      "  -0.02645114]\n",
      " [-0.006213    0.001999    0.005571   ... -0.016633   -0.026718\n",
      "   0.02037736]]\n"
     ]
    }
   ],
   "source": [
    "\"\"\"Markowitz investment strategy based on a moving average model\"\"\"\n",
    "\n",
    "import pandas as pd\n",
    "import numpy as np\n",
    "\n",
    "file_name = '收益率.xlsx'\n",
    "sheet_name = '涨跌幅' # 数据单位是 %\n",
    "stocks = ['伊利股份','美的集团','招商银行','中信证券','恒瑞医药','华大基因','哔哩哔哩','宁德时代','科大讯飞','新东方']\n",
    "\"\"\"stocks代码可优化\"\"\"\n",
    "\n",
    "n = len(stocks)\n",
    "\n",
    "df = pd.read_excel(file_name, sheet_name=sheet_name)\n",
    "\n",
    "def read_stock_data(file_name, sheet_name, stocks):\n",
    "    df = pd.read_excel(file_name, sheet_name=sheet_name)\n",
    "    stock_data_list = []\n",
    "    for stock in stocks:\n",
    "        if stock in df.columns:\n",
    "            stock_data = df[stock].values\n",
    "            stock_data_list.append(stock_data)\n",
    "        else:  \n",
    "            print(f\"股票 {stock} 不在数据框中，请检查股票名称是否正确或数据是否完整。\")\n",
    "    data_array = np.vstack(stock_data_list).T\n",
    "    data_array /= 100 #去百分号\n",
    "    return data_array\n",
    "\n",
    "data_array = read_stock_data(file_name, sheet_name, stocks)\n",
    "print(np.shape(data_array))\n",
    "print(data_array)"
   ]
  },
  {
   "cell_type": "code",
   "execution_count": 2,
   "id": "45db1c19",
   "metadata": {},
   "outputs": [
    {
     "name": "stdout",
     "output_type": "stream",
     "text": [
      "(464, 10)\n",
      "[[ 0.0084152   0.004276   -0.0119808  ... -0.0188472  -0.013115\n",
      "  -0.02380368]\n",
      " [ 0.014361    0.012056   -0.0113054  ... -0.019411   -0.0031938\n",
      "  -0.01266348]\n",
      " [ 0.0072078  -0.0007746  -0.009558   ... -0.0240386  -0.0069886\n",
      "  -0.01860081]\n",
      " ...\n",
      " [-0.0074598   0.006855    0.0028208  ...  0.0042706  -0.004652\n",
      "  -0.01582088]\n",
      " [-0.0098576   0.0032014  -0.0028228  ... -0.0063914  -0.0029826\n",
      "  -0.00467392]\n",
      " [-0.0079966  -0.0006854  -0.0027612  ... -0.0009902   0.0067362\n",
      "  -0.00458552]]\n"
     ]
    }
   ],
   "source": [
    "\"\"\"上一天到下一天视为时刻0和时刻1\"\"\"\n",
    "\"\"\"计算从第6天开始，每一天10只股票的期望收益率 E_r = expected_returns \"\"\"\n",
    "expected_returns = np.zeros((464, n))\n",
    "\n",
    "for date in range(5, 469):\n",
    "    past_5_days_data = data_array[date-5:date, :]\n",
    "    expected_returns[date-5, :] = past_5_days_data.mean(axis=0)\n",
    "\n",
    "print(expected_returns.shape)\n",
    "print(expected_returns)"
   ]
  },
  {
   "cell_type": "code",
   "execution_count": 3,
   "id": "9ad8a066",
   "metadata": {},
   "outputs": [
    {
     "name": "stdout",
     "output_type": "stream",
     "text": [
      "(464, 10, 10)\n",
      "[[[ 3.07169694e-04  5.35938385e-04  2.17098886e-04 ...  5.13409136e-04\n",
      "    2.19007589e-04  4.54799424e-04]\n",
      "  [ 5.35938385e-04  1.04920870e-03  2.88969162e-04 ...  9.41166569e-04\n",
      "    5.04969248e-04  6.80146759e-04]\n",
      "  [ 2.17098886e-04  2.88969162e-04  2.30610051e-04 ...  3.52957846e-04\n",
      "    9.57225220e-05  3.93201545e-04]\n",
      "  ...\n",
      "  [ 5.13409136e-04  9.41166569e-04  3.52957846e-04 ...  1.30524801e-03\n",
      "    5.91181223e-04  7.38372605e-04]\n",
      "  [ 2.19007589e-04  5.04969248e-04  9.57225220e-05 ...  5.91181223e-04\n",
      "    5.08864518e-04  1.08412653e-04]\n",
      "  [ 4.54799424e-04  6.80146759e-04  3.93201545e-04 ...  7.38372605e-04\n",
      "    1.08412653e-04  8.59460652e-04]]\n",
      "\n",
      " [[ 1.81882769e-04  2.82448785e-04  1.07429882e-04 ...  1.10520443e-04\n",
      "   -1.65770170e-05  3.57147019e-04]\n",
      "  [ 2.82448785e-04  6.00341600e-04  1.35296121e-04 ...  4.22483825e-04\n",
      "    4.72806710e-05  3.84580548e-04]\n",
      "  [ 1.07429882e-04  1.35296121e-04  2.07311452e-04 ...  3.16242271e-04\n",
      "   -9.02855024e-05  2.03295219e-04]\n",
      "  ...\n",
      "  [ 1.10520443e-04  4.22483825e-04  3.16242271e-04 ...  1.38278094e-03\n",
      "   -7.85657680e-05 -2.94887984e-05]\n",
      "  [-1.65770170e-05  4.72806710e-05 -9.02855024e-05 ... -7.85657680e-05\n",
      "    7.14983377e-05 -1.04238119e-04]\n",
      "  [ 3.57147019e-04  3.84580548e-04  2.03295219e-04 ... -2.94887984e-05\n",
      "   -1.04238119e-04  9.33348694e-04]]\n",
      "\n",
      " [[ 2.39151288e-04  3.35107983e-04  7.05716700e-06 ... -2.15004523e-04\n",
      "    7.98989556e-05  2.92666802e-04]\n",
      "  [ 3.35107983e-04  6.04999108e-04 -3.25116845e-05 ... -1.93792842e-04\n",
      "    1.93769950e-04  2.27370072e-04]\n",
      "  [ 7.05716700e-06 -3.25116845e-05  2.52932572e-04 ...  3.39878715e-04\n",
      "   -1.59679401e-04  1.47346575e-04]\n",
      "  ...\n",
      "  [-2.15004523e-04 -1.93792842e-04  3.39878715e-04 ...  9.37631272e-04\n",
      "   -2.08499480e-04 -3.72147667e-04]\n",
      "  [ 7.98989556e-05  1.93769950e-04 -1.59679401e-04 ... -2.08499480e-04\n",
      "    1.57742757e-04 -8.35848242e-05]\n",
      "  [ 2.92666802e-04  2.27370072e-04  1.47346575e-04 ... -3.72147667e-04\n",
      "   -8.35848242e-05  7.86853796e-04]]\n",
      "\n",
      " ...\n",
      "\n",
      " [[ 2.41539412e-05 -7.00477800e-06  3.93252993e-05 ...  1.15510051e-05\n",
      "   -1.32140447e-04 -6.70064099e-05]\n",
      "  [-7.00477800e-06  6.49060065e-05 -9.12132060e-05 ... -1.41422547e-04\n",
      "    1.34427237e-04  3.50510017e-06]\n",
      "  [ 3.93252993e-05 -9.12132060e-05  3.02392679e-04 ...  3.32292251e-04\n",
      "   -1.43369362e-04 -1.82554357e-04]\n",
      "  ...\n",
      "  [ 1.15510051e-05 -1.41422547e-04  3.32292251e-04 ...  4.86781473e-04\n",
      "    1.49072536e-04 -7.81621115e-05]\n",
      "  [-1.32140447e-04  1.34427237e-04 -1.43369362e-04 ...  1.49072536e-04\n",
      "    2.48761842e-03  2.88688816e-04]\n",
      "  [-6.70064099e-05  3.50510017e-06 -1.82554357e-04 ... -7.81621115e-05\n",
      "    2.88688816e-04  2.58574959e-04]]\n",
      "\n",
      " [[ 2.29718258e-05  4.31203930e-05 -2.01675393e-05 ... -2.78965958e-05\n",
      "   -8.91554010e-05 -7.21111806e-05]\n",
      "  [ 4.31203930e-05  2.20405049e-04 -5.96472821e-05 ...  2.93646237e-05\n",
      "    1.63772569e-04 -2.45669910e-04]\n",
      "  [-2.01675393e-05 -5.96472821e-05  2.88897142e-05 ... -1.27216366e-05\n",
      "   -2.71418435e-06  6.90681438e-05]\n",
      "  ...\n",
      "  [-2.78965958e-05  2.93646237e-05 -1.27216366e-05 ...  1.59340791e-04\n",
      "    3.64013483e-04  5.80881982e-05]\n",
      "  [-8.91554010e-05  1.63772569e-04 -2.71418435e-06 ...  3.64013483e-04\n",
      "    2.42833719e-03  9.62389700e-05]\n",
      "  [-7.21111806e-05 -2.45669910e-04  6.90681438e-05 ...  5.80881982e-05\n",
      "    9.62389700e-05  3.31584701e-04]]\n",
      "\n",
      " [[ 5.82126523e-05  1.60243139e-05 -1.99099701e-05 ...  1.71527283e-05\n",
      "   -5.01036201e-05 -1.22550357e-04]\n",
      "  [ 1.60243139e-05  1.79865725e-04 -5.86458481e-05 ...  7.02524064e-05\n",
      "    3.25083184e-04 -1.38115845e-04]\n",
      "  [-1.99099701e-05 -5.86458481e-05  2.88681542e-05 ... -1.38684480e-05\n",
      "   -6.16824895e-06  6.73554082e-05]\n",
      "  ...\n",
      "  [ 1.71527283e-05  7.02524064e-05 -1.38684480e-05 ...  1.23987237e-04\n",
      "    1.78475976e-04 -9.10204601e-05]\n",
      "  [-5.01036201e-05  3.25083184e-04 -6.16824895e-06 ...  1.78475976e-04\n",
      "    1.87509936e-03 -1.74059323e-04]\n",
      "  [-1.22550357e-04 -1.38115845e-04  6.73554082e-05 ... -9.10204601e-05\n",
      "   -1.74059323e-04  3.26713369e-04]]]\n"
     ]
    }
   ],
   "source": [
    "\"\"\"计算从第6天开始，每一天10只股票的收益率协方差矩阵 sigma_r = covariance_returns\"\"\"\n",
    "daily_covariance = []\n",
    "\n",
    "for i in range(5, 469):\n",
    "    past_5_days_data = data_array[i-5:i, :]\n",
    "    covariance_5 = np.cov(past_5_days_data, rowvar=False)\n",
    "    daily_covariance.append(covariance_5)\n",
    "\n",
    "covariance_returns = np.array(daily_covariance)\n",
    "print(covariance_returns.shape)\n",
    "print(covariance_returns)"
   ]
  },
  {
   "cell_type": "code",
   "execution_count": 4,
   "id": "c4393eed",
   "metadata": {},
   "outputs": [
    {
     "name": "stdout",
     "output_type": "stream",
     "text": [
      "(464, 10)\n",
      "[[-6.29481418e-01 -4.09073308e-01  1.80249821e+00 ...  3.30282247e-02\n",
      "  -3.80799718e-01 -7.27260115e-01]\n",
      " [-1.01182750e+00 -1.02236784e+00  4.85597090e-01 ... -1.98163900e-01\n",
      "   1.51692862e+00  1.31527288e+00]\n",
      " [ 3.27685216e-01 -3.08803217e-01  5.06669617e-02 ...  8.76143940e-02\n",
      "   5.71944841e-01  1.02447627e-01]\n",
      " ...\n",
      " [-8.99322779e-01  1.74054520e+00  2.52541633e-01 ...  4.73260627e-01\n",
      "   4.46231879e-02 -2.10854323e-02]\n",
      " [ 9.91523663e-01  1.91013777e-02  7.81937364e-01 ...  1.23265859e-01\n",
      "   8.16490260e-02  1.29033028e-01]\n",
      " [ 2.74322859e-01  2.82615319e-01  2.78911938e-01 ...  1.80043804e-01\n",
      "   1.13613104e-04  2.32288308e-01]]\n"
     ]
    }
   ],
   "source": [
    "def calculate_wd(expected_returns, covariance_returns):\n",
    "    wds = []\n",
    "\n",
    "    # 遍历每一天的期望收益率和协方差矩阵\n",
    "    for i in range(expected_returns.shape[0]):\n",
    "        Er = expected_returns[i]\n",
    "        sigma = covariance_returns[i]\n",
    "        e = np.ones(n)\n",
    "\n",
    "        # 计算wd = sigma^(-1) * Er / (e^T * sigma^(-1) * Er)\n",
    "        '''计算sigma逆矩阵的方法可优化'''\n",
    "        sigma_inv = np.linalg.inv(sigma)\n",
    "        wd_numerator = np.dot(sigma_inv, Er)\n",
    "        wd_denominator = np.dot(e.T, np.dot(sigma_inv, Er))\n",
    "        wd = wd_numerator / wd_denominator\n",
    "        \n",
    "        wds.append(wd)  \n",
    "\n",
    "    # 将列表转换为NumPy数组\n",
    "    wd_array = np.array(wds)\n",
    "\n",
    "    return wd_array  \n",
    "\n",
    "wd_array = calculate_wd(expected_returns, covariance_returns)\n",
    "print(wd_array.shape)\n",
    "print(wd_array)"
   ]
  },
  {
   "cell_type": "code",
   "execution_count": 5,
   "id": "2ea1c27b",
   "metadata": {},
   "outputs": [],
   "source": [
    "'''投资权重标准化'''\n",
    "def wd_scale(wd_array):\n",
    "    row_sums = wd_array.sum(axis=1)\n",
    "    scale_factors = 100 / row_sums # 计算缩放系数，即100除以每行的和\n",
    "    scale_factors[np.isinf(scale_factors)] = 1 # 如果出现除以零的情况，将缩放系数设为1\n",
    "    scaled_wd = wd_array * scale_factors[:, np.newaxis]\n",
    "    # 将每一行按原比例缩放，使得每行的和为100\n",
    "    # 使用[:, np.newaxis]将缩放系数扩展为列向量，以便进行广播\n",
    "    return scaled_wd\n",
    "\n",
    "scaled_wd = wd_scale(wd_array)"
   ]
  },
  {
   "cell_type": "code",
   "execution_count": 6,
   "id": "5c6a2c24",
   "metadata": {},
   "outputs": [
    {
     "name": "stdout",
     "output_type": "stream",
     "text": [
      "[ 35.7606294   52.60908024  37.14159389  18.93454563  32.96460666\n",
      "  71.21810405 181.3        223.62343866  40.24277897   8.23      ]\n",
      "14144.580373930145\n"
     ]
    }
   ],
   "source": [
    "'''反推本金（假定先观望5天，从第6天最低价时买入，连续投资464个交易日后平仓）'''\n",
    "# 读取第6天最低价\n",
    "file_name = '本金.xlsx'\n",
    "sheet_name = '前六天最低价'\n",
    "df = pd.read_excel(file_name, sheet_name=sheet_name)\n",
    "\n",
    "def read_min(file_name, sheet_name, stocks):\n",
    "    df = pd.read_excel(file_name, sheet_name=sheet_name)\n",
    "    min_list = []\n",
    "    for stock in stocks:\n",
    "        if stock in df.columns:\n",
    "            min_data = df[stock].values\n",
    "            min_list.append(min_data)\n",
    "        else:  \n",
    "            print(f\"股票 {stock} 不在数据框中，请检查股票名称是否正确或数据是否完整。\")\n",
    "    min_list = np.vstack(min_list).T\n",
    "    \n",
    "    return min_list\n",
    "\n",
    "min_list = read_min(file_name, sheet_name, stocks)\n",
    "# print(min_list.shape)\n",
    "# print(min_list)\n",
    "\n",
    "min_6 = min_list[5]\n",
    "print(min_6)\n",
    "scaled_wd_6 = scaled_wd[5]\n",
    "\n",
    "principal_each_stock = min_6 * scaled_wd_6\n",
    "principal = sum(principal_each_stock)\n",
    "print(principal)"
   ]
  },
  {
   "cell_type": "code",
   "execution_count": 7,
   "id": "583106c5",
   "metadata": {},
   "outputs": [
    {
     "name": "stdout",
     "output_type": "stream",
     "text": [
      "(464, 10)\n",
      "[[ 0.01651376 -0.00331588 -0.01662708 ... -0.07270704 -0.00837438\n",
      "  -0.01717791]\n",
      " [-0.00386299 -0.0185893   0.01411192 ... -0.0068059  -0.01060158\n",
      "  -0.01454545]\n",
      " [ 0.00884725  0.02445119  0.04457364 ...  0.01794138 -0.01111111\n",
      "   0.02970297]\n",
      " ...\n",
      " [-0.00831225 -0.02098007  0.00496432 ... -0.01543132 -0.01405791\n",
      "   0.01949025]\n",
      " [ 0.00366703  0.00061237 -0.0058642  ...  0.01027749  0.00340426\n",
      "  -0.01102131]\n",
      " [-0.00694444  0.00461255  0.00928505 ... -0.0069898  -0.02671756\n",
      "   0.02037736]]\n"
     ]
    }
   ],
   "source": [
    "file_name = '净收益.xlsx'\n",
    "sheet_name = '净收益率'\n",
    "df = pd.read_excel(file_name, sheet_name=sheet_name)\n",
    "\n",
    "def read_interest(file_name, sheet_name, stocks):\n",
    "    df = pd.read_excel(file_name, sheet_name=sheet_name)\n",
    "    stock_interest_list = []\n",
    "    for stock in stocks:\n",
    "        if stock in df.columns:\n",
    "            stock_interest = df[stock].values\n",
    "            stock_interest_list.append(stock_interest)\n",
    "        else:\n",
    "            print(f\"股票 {stock} 不在数据框中，请检查股票名称是否正确或数据是否完整。\")\n",
    "    \n",
    "    interest_array = np.vstack(stock_interest_list).T\n",
    "    \n",
    "    return interest_array\n",
    "\n",
    "interest_array = read_interest(file_name, sheet_name, stocks)\n",
    "interest_array = interest_array[5:,:] # 删除最开始5天的数据\n",
    "print(np.shape(interest_array))\n",
    "print(interest_array)"
   ]
  },
  {
   "cell_type": "code",
   "execution_count": 17,
   "id": "412c7966",
   "metadata": {},
   "outputs": [],
   "source": [
    "\"\"\"计算投资净收益和收益波动\"\"\"\n",
    "def calculate_profit(scaled_wd, interest_array):\n",
    "    profit = scaled_wd * interest_array\n",
    "    profit_result = profit.sum(axis=1)\n",
    "    profit_sum = sum(profit_result)\n",
    "    profit_deviation = np.var(profit_result)\n",
    "#     print(profit_sum)\n",
    "#     print(profit.shape)\n",
    "#     print(profit)\n",
    "#     print(profit_result.shape)\n",
    "#     print(profit_result)\n",
    "#     print(profit_sum.shape)\n",
    "    return profit_sum, profit_deviation"
   ]
  },
  {
   "cell_type": "code",
   "execution_count": 21,
   "id": "a4eece50",
   "metadata": {},
   "outputs": [],
   "source": [
    "'''波动'''\n",
    "file_name = '净收益.xlsx'\n",
    "sheet_arbitrage = '最大套利空间'\n",
    "df = pd.read_excel(file_name, sheet_name=sheet_arbitrage)\n",
    "\n",
    "arbitrage_array = read_interest(file_name, sheet_name, stocks) # 再次调用这个函数用于读取最大套利空间数据\n",
    "arbitrage_array = arbitrage_array[5:,:] # 删除最开始5天的数据\n",
    "\n",
    "def var_arbtrg(scaled_wd,arbitrage_array):\n",
    "    wd_squared = scaled_wd * scaled_wd\n",
    "    arbtrg = wd_squared * arbitrage_array\n",
    "    arbtrg_result = arbtrg.sum(axis=1)\n",
    "    arbtrg_variance = np.var(arbtrg_result)\n",
    "    return arbtrg_variance"
   ]
  },
  {
   "cell_type": "code",
   "execution_count": 22,
   "id": "fa1ed223",
   "metadata": {},
   "outputs": [
    {
     "data": {
      "text/plain": [
       "(-22.860637565856866, 9.05900715511032)"
      ]
     },
     "execution_count": 22,
     "metadata": {},
     "output_type": "execute_result"
    }
   ],
   "source": [
    "\"\"\"该种策略\"\"\"\n",
    "calculate_profit(scaled_wd, interest_array)"
   ]
  },
  {
   "cell_type": "code",
   "execution_count": 23,
   "id": "2bca95f4",
   "metadata": {},
   "outputs": [
    {
     "data": {
      "text/plain": [
       "23811943.10394687"
      ]
     },
     "execution_count": 23,
     "metadata": {},
     "output_type": "execute_result"
    }
   ],
   "source": [
    "var_arbtrg(scaled_wd,arbitrage_array)"
   ]
  },
  {
   "cell_type": "code",
   "execution_count": 10,
   "id": "5c21e8b2",
   "metadata": {},
   "outputs": [
    {
     "data": {
      "text/plain": [
       "(37.09437279766784, 1.7925468814195413)"
      ]
     },
     "execution_count": 10,
     "metadata": {},
     "output_type": "execute_result"
    }
   ],
   "source": [
    "\"\"\"等权重投资策略\"\"\"\n",
    "equal_scaled_wd = (100/n) * np.ones(n) # 已经经过标准化scaled\n",
    "calculate_profit(equal_scaled_wd, interest_array)"
   ]
  },
  {
   "cell_type": "code",
   "execution_count": 24,
   "id": "fb463a03",
   "metadata": {},
   "outputs": [
    {
     "data": {
      "text/plain": [
       "122.43336393822433"
      ]
     },
     "execution_count": 24,
     "metadata": {},
     "output_type": "execute_result"
    }
   ],
   "source": [
    "var_arbtrg(equal_scaled_wd,arbitrage_array)"
   ]
  },
  {
   "cell_type": "code",
   "execution_count": 11,
   "id": "27a49f6a",
   "metadata": {},
   "outputs": [
    {
     "data": {
      "text/plain": [
       "(-10504.315300234197, 213306.819090507)"
      ]
     },
     "execution_count": 11,
     "metadata": {},
     "output_type": "execute_result"
    }
   ],
   "source": [
    "\"\"\"全局最小方差投资策略\"\"\"\n",
    "def calculate_mvp_wd(covariance_returns):\n",
    "    mvp_wds = []\n",
    "\n",
    "    # 遍历每一天的期望收益率和协方差矩阵\n",
    "    for i in range(expected_returns.shape[0]):\n",
    "        sigma = covariance_returns[i]\n",
    "        e = np.ones(10)\n",
    "\n",
    "        # 计算wd = sigma^(-1) * e / (e^T * sigma^(-1) * e)\n",
    "        '''计算sigma逆矩阵的方法可优化'''\n",
    "        sigma_inv = np.linalg.inv(sigma)\n",
    "        mvp_wd_numerator = np.dot(sigma_inv, e)\n",
    "        mvp_wd_denominator = np.dot(e.T, np.dot(sigma_inv, e))\n",
    "        mvp_wd = mvp_wd_numerator / mvp_wd_denominator\n",
    "        \n",
    "        mvp_wds.append(mvp_wd)  \n",
    "\n",
    "    # 将列表转换为NumPy数组\n",
    "    mvp_wd_array = np.array(mvp_wds)\n",
    "\n",
    "    return mvp_wd_array  \n",
    "\n",
    "mvp_wd_array = calculate_mvp_wd(covariance_returns)\n",
    "mvp_scaled_wd = wd_scale(mvp_wd_array)\n",
    "calculate_profit(mvp_scaled_wd, interest_array)"
   ]
  },
  {
   "cell_type": "code",
   "execution_count": 25,
   "id": "28015cee",
   "metadata": {},
   "outputs": [
    {
     "data": {
      "text/plain": [
       "7.218067913161192e+16"
      ]
     },
     "execution_count": 25,
     "metadata": {},
     "output_type": "execute_result"
    }
   ],
   "source": [
    "var_arbtrg(mvp_scaled_wd,arbitrage_array)"
   ]
  },
  {
   "cell_type": "code",
   "execution_count": 27,
   "id": "8c4211c5",
   "metadata": {},
   "outputs": [
    {
     "name": "stdout",
     "output_type": "stream",
     "text": [
      "本金： 13005.026520650987\n",
      "1： -22.810637565856865 23811943.10394687\n",
      "2： 33.813066179698005 122.43336393822433\n",
      "3： 130.05026520650986 7.218067913161192e+16\n"
     ]
    }
   ],
   "source": [
    "'''加入无风险债券，重来一遍上述代码（待优化）'''\n",
    "file_name = '收益率.xlsx'\n",
    "sheet_name = '涨跌幅'\n",
    "stocks = ['伊利股份','美的集团','招商银行','中信证券','恒瑞医药','华大基因','哔哩哔哩','宁德时代','科大讯飞','新东方']\n",
    "n = len(stocks)\n",
    "rf = 0.01 # 无风险债券的收益率为 1 %\n",
    "w0 = 5 # 投资于无风险债券的比例为 5 %\n",
    "\n",
    "df = pd.read_excel(file_name, sheet_name=sheet_name)\n",
    "\n",
    "def read_stock_data(file_name, sheet_name, stocks):\n",
    "    df = pd.read_excel(file_name, sheet_name=sheet_name)\n",
    "    stock_data_list = []\n",
    "    for stock in stocks:\n",
    "        if stock in df.columns:\n",
    "            stock_data = df[stock].values\n",
    "            stock_data_list.append(stock_data)\n",
    "        else:  \n",
    "            print(f\"股票 {stock} 不在数据框中，请检查股票名称是否正确或数据是否完整。\")\n",
    "    data_array = np.vstack(stock_data_list).T\n",
    "    data_array /= 100\n",
    "    return data_array\n",
    "\n",
    "data_array = read_stock_data(file_name, sheet_name, stocks)\n",
    "\n",
    "expected_returns = np.zeros((464, n))\n",
    "\n",
    "for date in range(5, 469):\n",
    "    past_5_days_data = data_array[date-5:date, :]\n",
    "    expected_returns[date-5, :] = past_5_days_data.mean(axis=0)\n",
    "\n",
    "daily_covariance = []\n",
    "\n",
    "for i in range(5, 469):\n",
    "    past_5_days_data = data_array[i-5:i, :]\n",
    "    covariance_5 = np.cov(past_5_days_data, rowvar=False)\n",
    "    daily_covariance.append(covariance_5)\n",
    "\n",
    "covariance_returns = np.array(daily_covariance)\n",
    "\n",
    "def calculate_wd(expected_returns, covariance_returns):\n",
    "    wds = []\n",
    "\n",
    "    # 遍历每一天的期望收益率和协方差矩阵\n",
    "    for i in range(expected_returns.shape[0]):\n",
    "        Er = expected_returns[i]\n",
    "        sigma = covariance_returns[i]\n",
    "        e = np.ones(n)\n",
    "\n",
    "        # 计算wd = sigma^(-1) * Er / (e^T * sigma^(-1) * Er)\n",
    "        '''计算sigma逆矩阵的方法可优化'''\n",
    "        sigma_inv = np.linalg.inv(sigma)\n",
    "        C = np.dot(e.T, sigma_inv, e)\n",
    "        A = np.dot(e.T, np.dot(sigma_inv, Er))\n",
    "        wd_denominator = A - C * rf\n",
    "        wd_numerator = np.dot(sigma_inv, Er - rf * e)\n",
    "        wd = wd_numerator / wd_denominator\n",
    "        wds.append(wd)\n",
    "    \n",
    "    wd_array = np.array(wds)\n",
    "\n",
    "    return wd_array\n",
    "\n",
    "wd_array = calculate_wd(expected_returns, covariance_returns)\n",
    "\n",
    "def wd_scale(wd_array):\n",
    "    \n",
    "    row_sums = wd_array.sum(axis=1)\n",
    "    scale_factors = (100 - w0) / row_sums # 计算缩放系数，即100除以每行的和\n",
    "    scale_factors[np.isinf(scale_factors)] = 1 # 如果出现除以零的情况，将缩放系数设为1\n",
    "    scaled_wd = wd_array * scale_factors[:, np.newaxis]\n",
    "    return scaled_wd\n",
    "\n",
    "scaled_wd = wd_scale(wd_array)\n",
    "\n",
    "file_name = '本金.xlsx'\n",
    "sheet_name = '前六天最低价'\n",
    "df = pd.read_excel(file_name, sheet_name=sheet_name)\n",
    "\n",
    "def read_min(file_name, sheet_name, stocks):\n",
    "    df = pd.read_excel(file_name, sheet_name=sheet_name)\n",
    "    min_list = []\n",
    "    for stock in stocks:\n",
    "        if stock in df.columns:\n",
    "            min_data = df[stock].values\n",
    "            min_list.append(min_data)\n",
    "        else:  \n",
    "            print(f\"股票 {stock} 不在数据框中，请检查股票名称是否正确或数据是否完整。\")\n",
    "    min_list = np.vstack(min_list).T\n",
    "    \n",
    "    return min_list\n",
    "\n",
    "min_list = read_min(file_name, sheet_name, stocks)\n",
    "min_6 = min_list[5]\n",
    "scaled_wd_6 = scaled_wd[5]\n",
    "\n",
    "principal_each_stock = min_6 * scaled_wd_6\n",
    "principal = sum(principal_each_stock)\n",
    "print('本金：',principal)\n",
    "\n",
    "file_name = '净收益.xlsx'\n",
    "sheet_name = '净收益率'\n",
    "df = pd.read_excel(file_name, sheet_name=sheet_name)\n",
    "\n",
    "def read_interest(file_name, sheet_name, stocks):\n",
    "    df = pd.read_excel(file_name, sheet_name=sheet_name)\n",
    "    stock_interest_list = []\n",
    "    for stock in stocks:\n",
    "        if stock in df.columns:\n",
    "            stock_interest = df[stock].values\n",
    "            stock_interest_list.append(stock_interest)\n",
    "        else:\n",
    "            print(f\"股票 {stock} 不在数据框中，请检查股票名称是否正确或数据是否完整。\")\n",
    "    interest_array = np.vstack(stock_interest_list).T\n",
    "#     print(interest_array)\n",
    "    return interest_array\n",
    "\n",
    "interest_array = read_interest(file_name, sheet_name, stocks)\n",
    "interest_array = interest_array[5:,:] # 删除最开始5天的数据\n",
    "\n",
    "def calculate_profit(scaled_wd, interest_array):\n",
    "    profit = scaled_wd * interest_array\n",
    "    profit_result = profit.sum(axis=1)\n",
    "    profit_sum = sum(profit_result)\n",
    "    return profit_sum\n",
    "\n",
    "'''波动'''\n",
    "file_name = '净收益.xlsx'\n",
    "sheet_arbitrage = '最大套利空间'\n",
    "df = pd.read_excel(file_name, sheet_name=sheet_arbitrage)\n",
    "\n",
    "arbitrage_array = read_interest(file_name, sheet_name, stocks) # 再次调用这个函数用于读取最大套利空间数据\n",
    "arbitrage_array = arbitrage_array[5:,:] # 删除最开始5天的数据\n",
    "\n",
    "def var_arbtrg(scaled_wd,arbitrage_array):\n",
    "    wd_squared = scaled_wd * scaled_wd\n",
    "    arbtrg = wd_squared * arbitrage_array\n",
    "    arbtrg_result = arbtrg.sum(axis=1)\n",
    "    arbtrg_variance = np.var(arbtrg_result)\n",
    "    return arbtrg_variance\n",
    "\n",
    "\n",
    "\"\"\"该种策略\"\"\"\n",
    "profit_1 = calculate_profit(scaled_wd, interest_array) + w0 * rf\n",
    "arbtrg_variance_1 = var_arbtrg(scaled_wd,arbitrage_array)\n",
    "print('1：',profit_1,arbtrg_variance_1)\n",
    "\n",
    "\"\"\"等权重投资策略\"\"\"\n",
    "w0 = 100/(n+1)\n",
    "equal_scaled_wd = (100/(n+1)) * np.ones(n) # 已经经过标准化scaled\n",
    "profit_2 = calculate_profit(equal_scaled_wd, interest_array) + w0 * rf\n",
    "arbtrg_variance_2 = var_arbtrg(equal_scaled_wd,arbitrage_array)\n",
    "print('2：',profit_2,arbtrg_variance_2)\n",
    "\n",
    "\"\"\"全局最小方差投资策略，净收益就是 (principal)*(rf)\"\"\"\n",
    "profit_3 = principal * (rf)\n",
    "arbtrg_variance_3 = var_arbtrg(mvp_scaled_wd,arbitrage_array)\n",
    "print('3：',profit_3,arbtrg_variance_3)"
   ]
  },
  {
   "cell_type": "code",
   "execution_count": null,
   "id": "b62a0d25",
   "metadata": {},
   "outputs": [],
   "source": []
  }
 ],
 "metadata": {
  "kernelspec": {
   "display_name": "Python 3 (ipykernel)",
   "language": "python",
   "name": "python3"
  },
  "language_info": {
   "codemirror_mode": {
    "name": "ipython",
    "version": 3
   },
   "file_extension": ".py",
   "mimetype": "text/x-python",
   "name": "python",
   "nbconvert_exporter": "python",
   "pygments_lexer": "ipython3",
   "version": "3.11.4"
  }
 },
 "nbformat": 4,
 "nbformat_minor": 5
}
